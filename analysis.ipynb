{
 "cells": [
  {
   "cell_type": "markdown",
   "id": "0c328c34",
   "metadata": {},
   "source": [
    "# “Learning about Machine Learning with CRIM”\n",
    "\n",
    "\n",
    "**Abstract**\n",
    "\n",
    "In this tutorial-essay I will consider how we can use machine learning, speciﬁcally dimensionality reduction and embedding methods, with the CRIM corpus. The guiding question is how style can be modeled quantitatively. Building both on music-theoretical conceptualization and machine learning techniques, it will be demonstrated that unsupervised clustering can serve to some degree as a proxy for stylistic similarity. The CRIM data set provides an ideal case study that will also point to some shortcomings of the computational methodology that can only be resolved by a critical view, drawing on musicological expertise and close-reading of sources.\n"
   ]
  },
  {
   "cell_type": "markdown",
   "id": "27077389-468d-4208-9215-a6749718f9e5",
   "metadata": {},
   "source": [
    "## Introduction: setting the scope"
   ]
  },
  {
   "cell_type": "markdown",
   "id": "56285e10",
   "metadata": {
    "tags": []
   },
   "source": [
    "## Setup and obtaining the data"
   ]
  },
  {
   "cell_type": "markdown",
   "id": "43910965",
   "metadata": {},
   "source": [
    "We begin by installing the CRIM intervals library. \n",
    "\n",
    "```{bash}\n",
    "pip install --upgrade --force-reinstall git+https://github.com/HCDigitalScholarship/intervals.git@main \n",
    "```\n"
   ]
  },
  {
   "cell_type": "markdown",
   "id": "8164286c",
   "metadata": {},
   "source": [
    "Next we import all libraries and modules that we will need for our subsequent analyses."
   ]
  },
  {
   "cell_type": "code",
   "execution_count": 1,
   "id": "5d3ada91-edd5-4b14-a1df-1449f188970d",
   "metadata": {},
   "outputs": [],
   "source": [
    "abs_path = \"/home/fmoss/GitHub/fabianmoss/crim-haverford/\" # absolute path to my working directory\n",
    "\n",
    "import os, glob # file I/O\n",
    "from tqdm import tqdm # status bar for loops\n",
    "import re # regular expressions\n",
    "import requests # to download files\n",
    "\n",
    "import intervals as ci # crim intervals\n",
    "# import music21 as m21\n",
    "import pandas as pd # to work with tabular data\n",
    "\n",
    "import matplotlib.pyplot as plt # plots, plots, plots\n",
    "\n",
    "# dimensionality reduction\n",
    "from sklearn.decomposition import PCA\n",
    "from umap import UMAP"
   ]
  },
  {
   "cell_type": "code",
   "execution_count": 4,
   "id": "ed18bf3c-590b-4d5b-8472-c5fe9a67842a",
   "metadata": {},
   "outputs": [],
   "source": [
    "# us = m21.environment.UserSettings()\n",
    "# us.getSettingsPath()\n",
    "# us[\"musescoreDirectPNGPath\"] = \"/home/fmoss/.local/bin/mscore\"\n",
    "\n",
    "# import notebook\n",
    "# notebook.nbextensions.check_nbextension('usability/sphinx-markdown', user=True)\n",
    "\n",
    "# E = notebook.nbextensions.EnableNBExtensionApp()\n",
    "# E.toggle_nbextension('usability/sphinx-markdown/main')\n",
    "\n",
    "# c = m21.chord.Chord([\"C4\", \"E4\", \"G4\"])\n",
    "\n",
    "# hexa = ci.analysis.neoRiemannian.completeHexatonic(c, simplifyEnharmonics=True)\n",
    "# hexa\n",
    "\n",
    "# for chord in hexa:\n",
    "#     chord.duration=m21.duration.Duration(1.)\n",
    "\n",
    "# s = m21.stream.Stream(hexa)\n",
    "\n",
    "# s.show(\"text\")\n",
    "\n",
    "# s.show() # --> this doesn't work yet"
   ]
  },
  {
   "cell_type": "markdown",
   "id": "d5d07466",
   "metadata": {},
   "source": [
    "We now access the CRIM corpus and download it to our working directory, so that we have to download it only once.\n",
    "First we get a list of the URLs pointing to each piece in the corpus following the instructions [here](https://github.com/RichardFreedman/CRIM_JHUB/blob/main/Make-me-a-Corpus.ipynb) and [here](https://github.com/RichardFreedman/CRIM_JHUB/blob/main/CRIM_04b_Cadences_Corpus.ipynb)."
   ]
  },
  {
   "cell_type": "code",
   "execution_count": 2,
   "id": "fb190e75-3339-4320-808f-d5ceaa625195",
   "metadata": {},
   "outputs": [],
   "source": [
    "raw_prefix = \"https://raw.githubusercontent.com/CRIM-Project/CRIM-online/master/crim/static/mei/MEI_4.0/\"\n",
    "URL = \"https://api.github.com/repos/CRIM-Project/CRIM-online/git/trees/990f5eb3ff1e9623711514d6609da4076257816c\"\n",
    "piece_json = requests.get(URL).json()\n",
    "piece_list = [raw_prefix + p[\"path\"] for p in piece_json[\"tree\"]]"
   ]
  },
  {
   "cell_type": "markdown",
   "id": "9c748adc",
   "metadata": {},
   "source": [
    "The variable `piece_list` now contains all URLs and names of files in the CRIM corpus. We can inspect the first 5 items: "
   ]
  },
  {
   "cell_type": "code",
   "execution_count": 3,
   "id": "6508e477-bf8c-4300-acff-9346605abd9e",
   "metadata": {},
   "outputs": [
    {
     "data": {
      "text/plain": [
       "['https://raw.githubusercontent.com/CRIM-Project/CRIM-online/master/crim/static/mei/MEI_4.0/CRIM_Mass_0001.mei',\n",
       " 'https://raw.githubusercontent.com/CRIM-Project/CRIM-online/master/crim/static/mei/MEI_4.0/CRIM_Mass_0001_1.mei',\n",
       " 'https://raw.githubusercontent.com/CRIM-Project/CRIM-online/master/crim/static/mei/MEI_4.0/CRIM_Mass_0001_2.mei',\n",
       " 'https://raw.githubusercontent.com/CRIM-Project/CRIM-online/master/crim/static/mei/MEI_4.0/CRIM_Mass_0001_3.mei',\n",
       " 'https://raw.githubusercontent.com/CRIM-Project/CRIM-online/master/crim/static/mei/MEI_4.0/CRIM_Mass_0001_4.mei']"
      ]
     },
     "execution_count": 3,
     "metadata": {},
     "output_type": "execute_result"
    }
   ],
   "source": [
    "piece_list[:5]"
   ]
  },
  {
   "cell_type": "markdown",
   "id": "c2a39fb0",
   "metadata": {},
   "source": [
    "In total, we have `len(piece_list)` pieces: "
   ]
  },
  {
   "cell_type": "code",
   "execution_count": 4,
   "id": "bcc9fc60",
   "metadata": {},
   "outputs": [
    {
     "data": {
      "text/plain": [
       "307"
      ]
     },
     "execution_count": 4,
     "metadata": {},
     "output_type": "execute_result"
    }
   ],
   "source": [
    "len(piece_list)"
   ]
  },
  {
   "cell_type": "markdown",
   "id": "9dbc71ae",
   "metadata": {},
   "source": [
    "There are 307 files in total. Downloading the files takes a certain amount of time. To speed this up, we save all files in `piece_list` in our local directory."
   ]
  },
  {
   "cell_type": "markdown",
   "id": "53572d5c",
   "metadata": {},
   "source": [
    "First, we create a new directory `data/` but only if it does not already exist."
   ]
  },
  {
   "cell_type": "code",
   "execution_count": 5,
   "id": "d108d8d8",
   "metadata": {},
   "outputs": [],
   "source": [
    "d = \"data/\"\n",
    "if not os.path.exists(d):\n",
    "    os.makedirs(d)"
   ]
  },
  {
   "cell_type": "markdown",
   "id": "a293512d",
   "metadata": {},
   "source": [
    "Next, we iterate over `piece_list`, request the file from the server and save it to that directory."
   ]
  },
  {
   "cell_type": "code",
   "execution_count": 6,
   "id": "a1c2904b",
   "metadata": {},
   "outputs": [
    {
     "name": "stderr",
     "output_type": "stream",
     "text": [
      "100%|███████████████████████████████████████████| 10/10 [00:05<00:00,  1.89it/s]\n"
     ]
    }
   ],
   "source": [
    "for piece in tqdm(piece_list[:10]):\n",
    "    filename = piece.split(\"/\")[-1] # only the part after the last '/' is the filename    \n",
    "    with open(d + filename, \"wb\") as f:\n",
    "        # if not os.path.exists(d + filename):\n",
    "        r = requests.get(piece)\n",
    "        f.write(r.content)"
   ]
  },
  {
   "cell_type": "markdown",
   "id": "4ab67285",
   "metadata": {},
   "source": [
    "We create a new list `local_files` containing all local file paths and names."
   ]
  },
  {
   "cell_type": "code",
   "execution_count": 2,
   "id": "190eeb5d",
   "metadata": {},
   "outputs": [],
   "source": [
    "local_files = glob.glob(\"data/*.mei\")"
   ]
  },
  {
   "cell_type": "markdown",
   "id": "d0326429",
   "metadata": {},
   "source": [
    "So now we have a list of file names pointing to MEI files in our local `data/` directory. At a closer look you'll see that some of them end in something like `0001_1.mei` but a few others end in `0001.mei`. There is a pattern to this. The files without the trailing digit are 'wrappers' that bind all movements (indexed 1 through 9) of a particular mass (indexed 0001 through 9999) together. Since these wrappers do not contain any notes or cadences (those are stored in the MEI files of the respective movements), we'll filter them out. \n",
    "\n",
    "Fortunately, this is very easy since the filenames are chosen systematically. We only need to remove all files from the `local_files` list that have a file name ending in `_d.mei`, where `d` stands for any integer from 1 to 9."
   ]
  },
  {
   "cell_type": "code",
   "execution_count": 3,
   "id": "9c51a402",
   "metadata": {},
   "outputs": [],
   "source": [
    "local_files = [ f  for f in local_files if re.match(r\".+_\\d.mei$\", f) ]"
   ]
  },
  {
   "cell_type": "markdown",
   "id": "68eed739",
   "metadata": {},
   "source": [
    "What happened here? We defined a pattern according to which we were able to remove the wrapper file names. This pattern is here expressed as a **regular expression**: `r\".+_\\d.mei$\"`\n",
    "\n",
    "Let's take it apart to understand how it works.\n",
    "As you probably now, strings in Python are surrounded by either one or two quotation marks (`'` or `\"`). The `r` prefixed to the expression tells the interpreter that the string enclosed in quotes is a regular expression and that the characters have to be interpreted accordingly. \n",
    "\n",
    "Next, we see a period `.`. This symbol stands for \"any character\" in a regular expression. The following `+` means \"one or more\", so that the combination `.+` stands for a sequence of any characters of length at least 1. With this, we capture the part of the filename preceding the underscore `_`. \n",
    "\n",
    "Since the pattern differs towards the end of the file names, we can also view it from the end: The `$` sign marks the end of the string, so that everything to its left has to come just before. Since we are dealing with MEI files, each file name ends with `.mei`, which is exactly what we see before the `$`. \n",
    "\n",
    "Now the crucial part. The 'wrapper' files do not have an underscore followed by a single-digit integer. We can use this information and represent that integer with `\\d`. \n",
    "\n",
    "Consequently, filenames **not** following this pattern (not being captured by the regular expression) will not be taken into account. In English, we could read the list comprehension for `local_files` as: \"make a list of filenames where each filename conforms to the pattern defined by the regular expression\".\n",
    "\n",
    "These are the 5 first movements in the list:"
   ]
  },
  {
   "cell_type": "code",
   "execution_count": 4,
   "id": "0f85aa58-c080-48a1-aab3-01a7e18502f6",
   "metadata": {},
   "outputs": [
    {
     "data": {
      "text/plain": [
       "['data/CRIM_Mass_0001_5.mei',\n",
       " 'data/CRIM_Mass_0002_2.mei',\n",
       " 'data/CRIM_Mass_0001_1.mei',\n",
       " 'data/CRIM_Mass_0001_2.mei',\n",
       " 'data/CRIM_Mass_0002_1.mei']"
      ]
     },
     "execution_count": 4,
     "metadata": {},
     "output_type": "execute_result"
    }
   ],
   "source": [
    "local_files[:5]"
   ]
  },
  {
   "cell_type": "markdown",
   "id": "e4069cfc-7341-44a5-9f71-cc005629c142",
   "metadata": {},
   "source": [
    "As it turns out, they are not in lexicographical order. This can be easily fixed with the following line of code."
   ]
  },
  {
   "cell_type": "code",
   "execution_count": 5,
   "id": "5ffb8559-fbf1-444a-9018-fef0b19bc254",
   "metadata": {},
   "outputs": [],
   "source": [
    "local_files = sorted(local_files)"
   ]
  },
  {
   "cell_type": "code",
   "execution_count": 7,
   "id": "242d8dbf-acab-4be5-b15e-4fbf87f2df5f",
   "metadata": {},
   "outputs": [
    {
     "data": {
      "text/plain": [
       "['data/CRIM_Mass_0001_1.mei',\n",
       " 'data/CRIM_Mass_0001_2.mei',\n",
       " 'data/CRIM_Mass_0001_3.mei',\n",
       " 'data/CRIM_Mass_0001_4.mei',\n",
       " 'data/CRIM_Mass_0001_5.mei']"
      ]
     },
     "execution_count": 7,
     "metadata": {},
     "output_type": "execute_result"
    }
   ],
   "source": [
    "local_files[:5]"
   ]
  },
  {
   "cell_type": "code",
   "execution_count": 8,
   "id": "d3e0c268",
   "metadata": {},
   "outputs": [
    {
     "data": {
      "text/plain": [
       "8"
      ]
     },
     "execution_count": 8,
     "metadata": {},
     "output_type": "execute_result"
    }
   ],
   "source": [
    "len(local_files)"
   ]
  },
  {
   "cell_type": "markdown",
   "id": "bea8afb0",
   "metadata": {},
   "source": [
    "Apparently, there are \"only\" 220 individual mass movements. "
   ]
  },
  {
   "cell_type": "markdown",
   "id": "97bca395",
   "metadata": {},
   "source": [
    "## Transforming the data"
   ]
  },
  {
   "cell_type": "markdown",
   "id": "981bb738",
   "metadata": {},
   "source": [
    "Now that we have all files nicely stored in our local directory, it is finally time to access them and transform them from the MEI encoding into a tabular format. The CRIM intervals library (imported as `ci`, see above) provides a convenient way to do so: we create a `corpus` by passing a list of files to the `CorpusBase` object."
   ]
  },
  {
   "cell_type": "code",
   "execution_count": 9,
   "id": "29d97f84-8d54-4962-9a38-32d962ec4989",
   "metadata": {},
   "outputs": [
    {
     "name": "stdout",
     "output_type": "stream",
     "text": [
      "Successfully imported /home/fmoss/GitHub/fabianmoss/crim-haverford/data/CRIM_Mass_0001_1.mei\n",
      "Successfully imported /home/fmoss/GitHub/fabianmoss/crim-haverford/data/CRIM_Mass_0001_2.mei\n",
      "Successfully imported /home/fmoss/GitHub/fabianmoss/crim-haverford/data/CRIM_Mass_0001_3.mei\n",
      "Successfully imported /home/fmoss/GitHub/fabianmoss/crim-haverford/data/CRIM_Mass_0001_4.mei\n",
      "Successfully imported /home/fmoss/GitHub/fabianmoss/crim-haverford/data/CRIM_Mass_0001_5.mei\n",
      "Successfully imported /home/fmoss/GitHub/fabianmoss/crim-haverford/data/CRIM_Mass_0002_1.mei\n",
      "Successfully imported /home/fmoss/GitHub/fabianmoss/crim-haverford/data/CRIM_Mass_0002_2.mei\n",
      "Successfully imported /home/fmoss/GitHub/fabianmoss/crim-haverford/data/CRIM_Mass_0002_3.mei\n"
     ]
    }
   ],
   "source": [
    "corpus = ci.CorpusBase([abs_path + f for f in local_files] )"
   ]
  },
  {
   "cell_type": "markdown",
   "id": "45fd1d1e-dade-4c34-8214-ac2ed95d9d7d",
   "metadata": {},
   "source": [
    "The `corpus` object now provides a range of convenient methods to access and transform the data further.\n",
    "For instance, we can access all cadences from the first score `.scores[0]` in the corpus using the `.cadences()` method as follows:"
   ]
  },
  {
   "cell_type": "code",
   "execution_count": 10,
   "id": "df5143fe-785d-4ade-b0a9-6fd9f3c32c77",
   "metadata": {},
   "outputs": [
    {
     "data": {
      "text/html": [
       "<div>\n",
       "<style scoped>\n",
       "    .dataframe tbody tr th:only-of-type {\n",
       "        vertical-align: middle;\n",
       "    }\n",
       "\n",
       "    .dataframe tbody tr th {\n",
       "        vertical-align: top;\n",
       "    }\n",
       "\n",
       "    .dataframe thead th {\n",
       "        text-align: right;\n",
       "    }\n",
       "</style>\n",
       "<table border=\"1\" class=\"dataframe\">\n",
       "  <thead>\n",
       "    <tr style=\"text-align: right;\">\n",
       "      <th></th>\n",
       "      <th>CadType</th>\n",
       "      <th>LeadingTones</th>\n",
       "      <th>CVFs</th>\n",
       "      <th>Low</th>\n",
       "      <th>RelLow</th>\n",
       "      <th>Tone</th>\n",
       "      <th>RelTone</th>\n",
       "      <th>TSig</th>\n",
       "      <th>Measure</th>\n",
       "      <th>Beat</th>\n",
       "      <th>Sounding</th>\n",
       "      <th>Progress</th>\n",
       "      <th>SinceLast</th>\n",
       "      <th>ToNext</th>\n",
       "    </tr>\n",
       "  </thead>\n",
       "  <tbody>\n",
       "    <tr>\n",
       "      <th>28.0</th>\n",
       "      <td>Clausula Vera</td>\n",
       "      <td>0</td>\n",
       "      <td>CT</td>\n",
       "      <td>D3</td>\n",
       "      <td>-P4</td>\n",
       "      <td>D</td>\n",
       "      <td>P5</td>\n",
       "      <td>4/2</td>\n",
       "      <td>4</td>\n",
       "      <td>3.0</td>\n",
       "      <td>4.0</td>\n",
       "      <td>0.118644</td>\n",
       "      <td>28.0</td>\n",
       "      <td>12.0</td>\n",
       "    </tr>\n",
       "    <tr>\n",
       "      <th>40.0</th>\n",
       "      <td>Authentic</td>\n",
       "      <td>0</td>\n",
       "      <td>TCB</td>\n",
       "      <td>D3</td>\n",
       "      <td>-P4</td>\n",
       "      <td>D</td>\n",
       "      <td>P5</td>\n",
       "      <td>4/2</td>\n",
       "      <td>6</td>\n",
       "      <td>1.0</td>\n",
       "      <td>4.0</td>\n",
       "      <td>0.169492</td>\n",
       "      <td>12.0</td>\n",
       "      <td>16.0</td>\n",
       "    </tr>\n",
       "    <tr>\n",
       "      <th>56.0</th>\n",
       "      <td>Authentic</td>\n",
       "      <td>0</td>\n",
       "      <td>CB</td>\n",
       "      <td>B-3</td>\n",
       "      <td>m3</td>\n",
       "      <td>D</td>\n",
       "      <td>P5</td>\n",
       "      <td>4/2</td>\n",
       "      <td>8</td>\n",
       "      <td>1.0</td>\n",
       "      <td>4.0</td>\n",
       "      <td>0.237288</td>\n",
       "      <td>16.0</td>\n",
       "      <td>16.0</td>\n",
       "    </tr>\n",
       "    <tr>\n",
       "      <th>72.0</th>\n",
       "      <td>Authentic</td>\n",
       "      <td>1</td>\n",
       "      <td>CTB</td>\n",
       "      <td>G3</td>\n",
       "      <td>P1</td>\n",
       "      <td>G</td>\n",
       "      <td>P8</td>\n",
       "      <td>8/2</td>\n",
       "      <td>10</td>\n",
       "      <td>1.0</td>\n",
       "      <td>4.0</td>\n",
       "      <td>0.305085</td>\n",
       "      <td>16.0</td>\n",
       "      <td>56.0</td>\n",
       "    </tr>\n",
       "    <tr>\n",
       "      <th>128.0</th>\n",
       "      <td>Authentic</td>\n",
       "      <td>0</td>\n",
       "      <td>CB</td>\n",
       "      <td>G3</td>\n",
       "      <td>P1</td>\n",
       "      <td>G</td>\n",
       "      <td>P8</td>\n",
       "      <td>4/2</td>\n",
       "      <td>16</td>\n",
       "      <td>1.0</td>\n",
       "      <td>3.0</td>\n",
       "      <td>0.542373</td>\n",
       "      <td>56.0</td>\n",
       "      <td>8.0</td>\n",
       "    </tr>\n",
       "    <tr>\n",
       "      <th>136.0</th>\n",
       "      <td>Clausula Vera</td>\n",
       "      <td>0</td>\n",
       "      <td>TC</td>\n",
       "      <td>G3</td>\n",
       "      <td>P1</td>\n",
       "      <td>G</td>\n",
       "      <td>P8</td>\n",
       "      <td>4/2</td>\n",
       "      <td>17</td>\n",
       "      <td>1.0</td>\n",
       "      <td>4.0</td>\n",
       "      <td>0.576271</td>\n",
       "      <td>8.0</td>\n",
       "      <td>8.0</td>\n",
       "    </tr>\n",
       "    <tr>\n",
       "      <th>144.0</th>\n",
       "      <td>Authentic</td>\n",
       "      <td>0</td>\n",
       "      <td>CTB</td>\n",
       "      <td>D3</td>\n",
       "      <td>-P4</td>\n",
       "      <td>D</td>\n",
       "      <td>P5</td>\n",
       "      <td>4/2</td>\n",
       "      <td>18</td>\n",
       "      <td>1.0</td>\n",
       "      <td>4.0</td>\n",
       "      <td>0.610169</td>\n",
       "      <td>8.0</td>\n",
       "      <td>48.0</td>\n",
       "    </tr>\n",
       "    <tr>\n",
       "      <th>192.0</th>\n",
       "      <td>Clausula Vera</td>\n",
       "      <td>1</td>\n",
       "      <td>CT</td>\n",
       "      <td>G3</td>\n",
       "      <td>P1</td>\n",
       "      <td>G</td>\n",
       "      <td>P8</td>\n",
       "      <td>4/2</td>\n",
       "      <td>23</td>\n",
       "      <td>1.0</td>\n",
       "      <td>3.0</td>\n",
       "      <td>0.813559</td>\n",
       "      <td>48.0</td>\n",
       "      <td>16.0</td>\n",
       "    </tr>\n",
       "    <tr>\n",
       "      <th>208.0</th>\n",
       "      <td>Clausula Vera</td>\n",
       "      <td>0</td>\n",
       "      <td>TC</td>\n",
       "      <td>G3</td>\n",
       "      <td>P1</td>\n",
       "      <td>G</td>\n",
       "      <td>P8</td>\n",
       "      <td>4/2</td>\n",
       "      <td>25</td>\n",
       "      <td>1.0</td>\n",
       "      <td>4.0</td>\n",
       "      <td>0.881356</td>\n",
       "      <td>16.0</td>\n",
       "      <td>28.0</td>\n",
       "    </tr>\n",
       "    <tr>\n",
       "      <th>236.0</th>\n",
       "      <td>Authentic</td>\n",
       "      <td>1</td>\n",
       "      <td>CTB</td>\n",
       "      <td>G3</td>\n",
       "      <td>P1</td>\n",
       "      <td>G</td>\n",
       "      <td>P8</td>\n",
       "      <td>10/2</td>\n",
       "      <td>28</td>\n",
       "      <td>3.0</td>\n",
       "      <td>4.0</td>\n",
       "      <td>1.000000</td>\n",
       "      <td>28.0</td>\n",
       "      <td>16.0</td>\n",
       "    </tr>\n",
       "  </tbody>\n",
       "</table>\n",
       "</div>"
      ],
      "text/plain": [
       "             CadType  LeadingTones CVFs  Low RelLow Tone RelTone  TSig  \\\n",
       "28.0   Clausula Vera             0   CT   D3    -P4    D      P5   4/2   \n",
       "40.0       Authentic             0  TCB   D3    -P4    D      P5   4/2   \n",
       "56.0       Authentic             0   CB  B-3     m3    D      P5   4/2   \n",
       "72.0       Authentic             1  CTB   G3     P1    G      P8   8/2   \n",
       "128.0      Authentic             0   CB   G3     P1    G      P8   4/2   \n",
       "136.0  Clausula Vera             0   TC   G3     P1    G      P8   4/2   \n",
       "144.0      Authentic             0  CTB   D3    -P4    D      P5   4/2   \n",
       "192.0  Clausula Vera             1   CT   G3     P1    G      P8   4/2   \n",
       "208.0  Clausula Vera             0   TC   G3     P1    G      P8   4/2   \n",
       "236.0      Authentic             1  CTB   G3     P1    G      P8  10/2   \n",
       "\n",
       "       Measure  Beat  Sounding  Progress  SinceLast  ToNext  \n",
       "28.0         4   3.0       4.0  0.118644       28.0    12.0  \n",
       "40.0         6   1.0       4.0  0.169492       12.0    16.0  \n",
       "56.0         8   1.0       4.0  0.237288       16.0    16.0  \n",
       "72.0        10   1.0       4.0  0.305085       16.0    56.0  \n",
       "128.0       16   1.0       3.0  0.542373       56.0     8.0  \n",
       "136.0       17   1.0       4.0  0.576271        8.0     8.0  \n",
       "144.0       18   1.0       4.0  0.610169        8.0    48.0  \n",
       "192.0       23   1.0       3.0  0.813559       48.0    16.0  \n",
       "208.0       25   1.0       4.0  0.881356       16.0    28.0  \n",
       "236.0       28   3.0       4.0  1.000000       28.0    16.0  "
      ]
     },
     "execution_count": 10,
     "metadata": {},
     "output_type": "execute_result"
    }
   ],
   "source": [
    "corpus.scores[0].cadences()"
   ]
  },
  {
   "cell_type": "markdown",
   "id": "62c7c976",
   "metadata": {},
   "source": [
    "## The vector-space model"
   ]
  },
  {
   "cell_type": "markdown",
   "id": "53a5759e",
   "metadata": {},
   "source": [
    "**In the _vector-space model_, counts of terms are represented in a high-dimensional abstract space. Imagine that terms are stored in a vocabulary with $V$ entries, then the (relative) frequency of these terms in a document (here: in a mass movement) is represented by a real number.**"
   ]
  },
  {
   "cell_type": "markdown",
   "id": "94ec0765",
   "metadata": {},
   "source": [
    "### $n$-gram models"
   ]
  },
  {
   "cell_type": "markdown",
   "id": "6ddd9820",
   "metadata": {},
   "source": [
    "The concept of $n$-grams is useful to describe sequences of different lengths. \n",
    "\n",
    "It comes from the field of _Formal Language Theory_ (FLT). Imagine we have two sequences (e.g., melodies), \n",
    "$$s_1 = n_1 n_2 \\ldots n_k$$\n",
    "and \n",
    "$$s_2 = n_1 n_2 \\ldots n_l,$$\n",
    "and both melodies are taken from a corpus within the same style. We can then as questions like, which melody is more likely (= more frequent)? \n",
    "\n",
    "$$P(s_1) \\geq P(s_2).$$\n",
    "\n",
    "Moreover, this model $n$-gram models let us ask questions like \"Given a particular sequence (melody) $s=n_1\\ldots n_t$, what is the most likely next note?:\"\n",
    "\n",
    "$$P(n_{t+1}| n_1 \\ldots n_t)$$\n",
    "\n",
    "In the above expression, the probability of the note $n_{t+1}$ depends on the entire \"history\" of the previous notes in the melody. For a handful of notes, this is not a problem, but it can become difficult to calculate when sequences get very long. This is where the so-called _Markov assumption_ enters the stage:\n",
    "\n",
    "$$P(n_{t+1}| n_1 \\ldots n_t) \\approx P(n_{t+1}| n_t).$$\n",
    "\n",
    "It states that the probability of the next note in the melody, $n_{t+1}$, given the entire previous melody $n_1 \\ldots n_t$ can be **approximated** by just looking at the probability of the next note $n_{t+1}$ given the last note $n_t$. We approximate entire melodies by only looking at pairs of notes! These are called **bigrams**. While this seems to be a drastic reduction of complexity (and it is!), it does work quite well in practice.\n",
    "\n",
    "The $n$ in $n$-gram model determines the length of the history taken into account:\n",
    "- **unigrams** ($n=1$) take a history of length 0 into account (these are just the raw frequencies of occurrence)\n",
    "- **bigrams** ($n=2$) take a history of one note into account\n",
    "- **trigrams** ($n=3$) take a history of two notes into account\n",
    "- etc."
   ]
  },
  {
   "cell_type": "code",
   "execution_count": null,
   "id": "8b00dfc0",
   "metadata": {},
   "outputs": [],
   "source": []
  },
  {
   "cell_type": "code",
   "execution_count": null,
   "id": "432bdad0",
   "metadata": {},
   "outputs": [],
   "source": []
  },
  {
   "cell_type": "code",
   "execution_count": 15,
   "id": "1225fe96-16d4-4bc1-af17-022c89bceea4",
   "metadata": {},
   "outputs": [
    {
     "data": {
      "text/html": [
       "<div>\n",
       "<style scoped>\n",
       "    .dataframe tbody tr th:only-of-type {\n",
       "        vertical-align: middle;\n",
       "    }\n",
       "\n",
       "    .dataframe tbody tr th {\n",
       "        vertical-align: top;\n",
       "    }\n",
       "\n",
       "    .dataframe thead th {\n",
       "        text-align: right;\n",
       "    }\n",
       "</style>\n",
       "<table border=\"1\" class=\"dataframe\">\n",
       "  <thead>\n",
       "    <tr style=\"text-align: right;\">\n",
       "      <th></th>\n",
       "      <th>4_3</th>\n",
       "      <th>4_2</th>\n",
       "      <th>4_1</th>\n",
       "      <th>3_2</th>\n",
       "      <th>3_1</th>\n",
       "      <th>2_1</th>\n",
       "      <th>Composer</th>\n",
       "      <th>Title</th>\n",
       "    </tr>\n",
       "  </thead>\n",
       "  <tbody>\n",
       "    <tr>\n",
       "      <th>0.0</th>\n",
       "      <td>3_1, 3_-4, 5</td>\n",
       "      <td>5_1, 5_-4, 8</td>\n",
       "      <td>8_1, 8_-4, 10</td>\n",
       "      <td>3_1, 3_-2, 4</td>\n",
       "      <td>6_1, 6_-2, 6</td>\n",
       "      <td>4_1, 4_1, 3</td>\n",
       "      <td>Pierre Colin</td>\n",
       "      <td>Missa Confitemini: Kyrie</td>\n",
       "    </tr>\n",
       "    <tr>\n",
       "      <th>6.0</th>\n",
       "      <td>3_-4, 5_4, 3</td>\n",
       "      <td>5_-4, 8_4, 5</td>\n",
       "      <td>8_-4, 10_4, 8</td>\n",
       "      <td>3_-2, 4_2, 3</td>\n",
       "      <td>6_-2, 6_2, 6</td>\n",
       "      <td>4_1, 3_1, 4</td>\n",
       "      <td>Pierre Colin</td>\n",
       "      <td>Missa Confitemini: Kyrie</td>\n",
       "    </tr>\n",
       "    <tr>\n",
       "      <th>8.0</th>\n",
       "      <td>5_4, 3_-2, 5</td>\n",
       "      <td>8_4, 5_-2, 8</td>\n",
       "      <td>10_4, 8_-2, 10</td>\n",
       "      <td>4_2, 3_2, 4</td>\n",
       "      <td>6_2, 6_2, 6</td>\n",
       "      <td>3_1, 4_3, 3</td>\n",
       "      <td>Pierre Colin</td>\n",
       "      <td>Missa Confitemini: Kyrie</td>\n",
       "    </tr>\n",
       "    <tr>\n",
       "      <th>12.0</th>\n",
       "      <td>3_-2, 5_Held, 4</td>\n",
       "      <td>5_-2, 8_Held, 7</td>\n",
       "      <td>8_-2, 10_Held, 9</td>\n",
       "      <td>3_2, 4_-2, 4</td>\n",
       "      <td>6_2, 6_-2, 6</td>\n",
       "      <td>4_3, 3_-2, 3</td>\n",
       "      <td>Pierre Colin</td>\n",
       "      <td>Missa Confitemini: Kyrie</td>\n",
       "    </tr>\n",
       "    <tr>\n",
       "      <th>16.0</th>\n",
       "      <td>5_Held, 4_Held, 3</td>\n",
       "      <td>8_Held, 7_Held, 6</td>\n",
       "      <td>10_Held, 9_Held, 10</td>\n",
       "      <td>4_-2, 4_Held, 3</td>\n",
       "      <td>6_-2, 6_-2, 8</td>\n",
       "      <td>3_-2, 3_-2, 4</td>\n",
       "      <td>Pierre Colin</td>\n",
       "      <td>Missa Confitemini: Kyrie</td>\n",
       "    </tr>\n",
       "    <tr>\n",
       "      <th>...</th>\n",
       "      <td>...</td>\n",
       "      <td>...</td>\n",
       "      <td>...</td>\n",
       "      <td>...</td>\n",
       "      <td>...</td>\n",
       "      <td>...</td>\n",
       "      <td>...</td>\n",
       "      <td>...</td>\n",
       "    </tr>\n",
       "    <tr>\n",
       "      <th>229.0</th>\n",
       "      <td>7_3, 5_Held, 4</td>\n",
       "      <td>NaN</td>\n",
       "      <td>NaN</td>\n",
       "      <td>4_1, 2_-2, 3</td>\n",
       "      <td>7_1, 6_-2, 7</td>\n",
       "      <td>NaN</td>\n",
       "      <td>Pierre Colin</td>\n",
       "      <td>Missa Confitemini: Kyrie</td>\n",
       "    </tr>\n",
       "    <tr>\n",
       "      <th>230.0</th>\n",
       "      <td>5_Held, 4_Held, 3</td>\n",
       "      <td>6_-2, 8_4, 5</td>\n",
       "      <td>10_-2, 11_Held, 10</td>\n",
       "      <td>2_-2, 3_-2, 4</td>\n",
       "      <td>6_-2, 7_-2, 8</td>\n",
       "      <td>5_2, 4_Held, 3</td>\n",
       "      <td>Pierre Colin</td>\n",
       "      <td>Missa Confitemini: Kyrie</td>\n",
       "    </tr>\n",
       "    <tr>\n",
       "      <th>231.0</th>\n",
       "      <td>4_Held, 3_-2, 5</td>\n",
       "      <td>NaN</td>\n",
       "      <td>NaN</td>\n",
       "      <td>3_-2, 4_2, 4</td>\n",
       "      <td>7_-2, 8_2, 7</td>\n",
       "      <td>NaN</td>\n",
       "      <td>Pierre Colin</td>\n",
       "      <td>Missa Confitemini: Kyrie</td>\n",
       "    </tr>\n",
       "    <tr>\n",
       "      <th>231.5</th>\n",
       "      <td>3_-2, 5_Held, 5</td>\n",
       "      <td>NaN</td>\n",
       "      <td>NaN</td>\n",
       "      <td>4_2, 4_1, 4</td>\n",
       "      <td>8_2, 7_1, 6</td>\n",
       "      <td>NaN</td>\n",
       "      <td>Pierre Colin</td>\n",
       "      <td>Missa Confitemini: Kyrie</td>\n",
       "    </tr>\n",
       "    <tr>\n",
       "      <th>232.0</th>\n",
       "      <td>5_Held, 5_4, 1</td>\n",
       "      <td>NaN</td>\n",
       "      <td>11_Held, 10_4, 8</td>\n",
       "      <td>4_1, 4_-2, 5</td>\n",
       "      <td>7_1, 6_-2, 8</td>\n",
       "      <td>4_Held, 3_1, 4</td>\n",
       "      <td>Pierre Colin</td>\n",
       "      <td>Missa Confitemini: Kyrie</td>\n",
       "    </tr>\n",
       "  </tbody>\n",
       "</table>\n",
       "<p>125 rows × 8 columns</p>\n",
       "</div>"
      ],
      "text/plain": [
       "                     4_3                4_2                  4_1  \\\n",
       "0.0         3_1, 3_-4, 5       5_1, 5_-4, 8        8_1, 8_-4, 10   \n",
       "6.0         3_-4, 5_4, 3       5_-4, 8_4, 5        8_-4, 10_4, 8   \n",
       "8.0         5_4, 3_-2, 5       8_4, 5_-2, 8       10_4, 8_-2, 10   \n",
       "12.0     3_-2, 5_Held, 4    5_-2, 8_Held, 7     8_-2, 10_Held, 9   \n",
       "16.0   5_Held, 4_Held, 3  8_Held, 7_Held, 6  10_Held, 9_Held, 10   \n",
       "...                  ...                ...                  ...   \n",
       "229.0     7_3, 5_Held, 4                NaN                  NaN   \n",
       "230.0  5_Held, 4_Held, 3       6_-2, 8_4, 5   10_-2, 11_Held, 10   \n",
       "231.0    4_Held, 3_-2, 5                NaN                  NaN   \n",
       "231.5    3_-2, 5_Held, 5                NaN                  NaN   \n",
       "232.0     5_Held, 5_4, 1                NaN     11_Held, 10_4, 8   \n",
       "\n",
       "                   3_2            3_1             2_1      Composer  \\\n",
       "0.0       3_1, 3_-2, 4   6_1, 6_-2, 6     4_1, 4_1, 3  Pierre Colin   \n",
       "6.0       3_-2, 4_2, 3   6_-2, 6_2, 6     4_1, 3_1, 4  Pierre Colin   \n",
       "8.0        4_2, 3_2, 4    6_2, 6_2, 6     3_1, 4_3, 3  Pierre Colin   \n",
       "12.0      3_2, 4_-2, 4   6_2, 6_-2, 6    4_3, 3_-2, 3  Pierre Colin   \n",
       "16.0   4_-2, 4_Held, 3  6_-2, 6_-2, 8   3_-2, 3_-2, 4  Pierre Colin   \n",
       "...                ...            ...             ...           ...   \n",
       "229.0     4_1, 2_-2, 3   7_1, 6_-2, 7             NaN  Pierre Colin   \n",
       "230.0    2_-2, 3_-2, 4  6_-2, 7_-2, 8  5_2, 4_Held, 3  Pierre Colin   \n",
       "231.0     3_-2, 4_2, 4   7_-2, 8_2, 7             NaN  Pierre Colin   \n",
       "231.5      4_2, 4_1, 4    8_2, 7_1, 6             NaN  Pierre Colin   \n",
       "232.0     4_1, 4_-2, 5   7_1, 6_-2, 8  4_Held, 3_1, 4  Pierre Colin   \n",
       "\n",
       "                          Title  \n",
       "0.0    Missa Confitemini: Kyrie  \n",
       "6.0    Missa Confitemini: Kyrie  \n",
       "8.0    Missa Confitemini: Kyrie  \n",
       "12.0   Missa Confitemini: Kyrie  \n",
       "16.0   Missa Confitemini: Kyrie  \n",
       "...                         ...  \n",
       "229.0  Missa Confitemini: Kyrie  \n",
       "230.0  Missa Confitemini: Kyrie  \n",
       "231.0  Missa Confitemini: Kyrie  \n",
       "231.5  Missa Confitemini: Kyrie  \n",
       "232.0  Missa Confitemini: Kyrie  \n",
       "\n",
       "[125 rows x 8 columns]"
      ]
     },
     "execution_count": 15,
     "metadata": {},
     "output_type": "execute_result"
    }
   ],
   "source": [
    "corpus.batch(func=ci.ImportedPiece.ngrams)[0]"
   ]
  },
  {
   "cell_type": "markdown",
   "id": "2fb29c8f",
   "metadata": {},
   "source": [
    "### Term frequencies"
   ]
  },
  {
   "cell_type": "markdown",
   "id": "c592f2b9",
   "metadata": {},
   "source": [
    "### Document frequencies"
   ]
  },
  {
   "cell_type": "markdown",
   "id": "edcf789d",
   "metadata": {},
   "source": [
    "### Term frequency - inverse document frequency (TF-IDF)"
   ]
  },
  {
   "cell_type": "code",
   "execution_count": 19,
   "id": "026e1226",
   "metadata": {},
   "outputs": [],
   "source": [
    "def count_all(df, normalize=False):\n",
    "    s = pd.concat([df[col] for col in df.columns])\n",
    "    return s.value_counts(normalize=normalize)"
   ]
  },
  {
   "cell_type": "code",
   "execution_count": 20,
   "id": "b51934ea-2879-4510-a2ec-adc43a56e156",
   "metadata": {},
   "outputs": [
    {
     "ename": "AttributeError",
     "evalue": "'ImportedPiece' object has no attribute 'getNoteRest'",
     "output_type": "error",
     "traceback": [
      "\u001b[0;31m---------------------------------------------------------------------------\u001b[0m",
      "\u001b[0;31mAttributeError\u001b[0m                            Traceback (most recent call last)",
      "Cell \u001b[0;32mIn [20], line 1\u001b[0m\n\u001b[0;32m----> 1\u001b[0m count_all(\u001b[43mcorpus\u001b[49m\u001b[38;5;241;43m.\u001b[39;49m\u001b[43mscores\u001b[49m\u001b[43m[\u001b[49m\u001b[38;5;241;43m2\u001b[39;49m\u001b[43m]\u001b[49m\u001b[38;5;241;43m.\u001b[39;49m\u001b[43mgetNoteRest\u001b[49m(), normalize\u001b[38;5;241m=\u001b[39m\u001b[38;5;28;01mFalse\u001b[39;00m)\n",
      "\u001b[0;31mAttributeError\u001b[0m: 'ImportedPiece' object has no attribute 'getNoteRest'"
     ]
    }
   ],
   "source": [
    "count_all(corpus.scores[2].getNoteRest(), normalize=False)"
   ]
  },
  {
   "cell_type": "code",
   "execution_count": null,
   "id": "70854427-c0c6-4c8c-b949-8a9e71b48bf0",
   "metadata": {},
   "outputs": [],
   "source": [
    "counts = pd.DataFrame([ count_all( corpus.scores[i].getNoteRest()) for i in range(len(corpus.scores)) ]).reset_index(drop=True)\n",
    "counts = counts.fillna(1)# fill NaN values\n",
    "del counts[\"Rest\"]\n",
    "counts = counts.iloc[:,:20]\n",
    "counts"
   ]
  },
  {
   "cell_type": "code",
   "execution_count": null,
   "id": "a4b8b4a2-59f9-4827-b7f4-197bb4ecfa10",
   "metadata": {},
   "outputs": [],
   "source": [
    "import numpy as np\n",
    "\n",
    "dia = [\"B-\"] + list(\"FCGDAEB\") + [\"Rest\"]\n",
    "\n",
    "cmap = plt.get_cmap('tab20')\n",
    "colors = cmap(np.linspace(0, 1, len(dia)))\n",
    "\n",
    "c = [colors[dia.index(l)] for l in counts.idxmax(axis=1).apply(lambda x: x[:-1] if x[-1] != \"t\" else x).values]"
   ]
  },
  {
   "cell_type": "code",
   "execution_count": null,
   "id": "d642747d-c387-400e-9662-c33f0408ddf0",
   "metadata": {},
   "outputs": [],
   "source": [
    "counts = counts.div(counts.sum(axis=1), axis=0)"
   ]
  },
  {
   "cell_type": "code",
   "execution_count": null,
   "id": "8baa47d1-4546-424f-9289-f8baeede323e",
   "metadata": {},
   "outputs": [],
   "source": [
    "X = counts.values"
   ]
  },
  {
   "cell_type": "code",
   "execution_count": null,
   "id": "460c7a85-9fcf-46c2-9833-95743113ac26",
   "metadata": {},
   "outputs": [],
   "source": []
  },
  {
   "cell_type": "code",
   "execution_count": null,
   "id": "a09e4e82-1b01-490a-b4a5-10fb54cac1c3",
   "metadata": {},
   "outputs": [],
   "source": [
    "from sklearn.manifold import TSNE"
   ]
  },
  {
   "cell_type": "code",
   "execution_count": null,
   "id": "ee32d272-e330-46ea-938a-a2fec6ee8511",
   "metadata": {},
   "outputs": [],
   "source": [
    "tsne = TSNE(n_components=2, metric=\"cosine\", perplexity=25)"
   ]
  },
  {
   "cell_type": "code",
   "execution_count": null,
   "id": "10c41c13-493f-4ef4-89af-911b195d0f06",
   "metadata": {},
   "outputs": [],
   "source": [
    "X__ = tsne.fit_transform(X)"
   ]
  },
  {
   "cell_type": "code",
   "execution_count": null,
   "id": "6c90da96-addc-4e14-9598-5f65d6d950f4",
   "metadata": {},
   "outputs": [],
   "source": [
    "plt.scatter(X__[:,0], X__[:,1], alpha=.75, zorder=3, c=c)\n",
    "plt.show()"
   ]
  },
  {
   "cell_type": "code",
   "execution_count": null,
   "id": "68a4c4d1-ad1b-48b9-a5fc-7067c7e43064",
   "metadata": {},
   "outputs": [],
   "source": []
  },
  {
   "cell_type": "code",
   "execution_count": null,
   "id": "a55bb3db-8c73-456e-8505-34e37e61dc20",
   "metadata": {},
   "outputs": [],
   "source": [
    "corpus.scores[3].analyses[\"note_list\"][4].note"
   ]
  },
  {
   "cell_type": "markdown",
   "id": "e8a2c203",
   "metadata": {},
   "source": [
    "## Dimensionality reduction"
   ]
  },
  {
   "cell_type": "markdown",
   "id": "fdbe6c92-86ed-4644-9053-615714f110d0",
   "metadata": {},
   "source": [
    "TEXT"
   ]
  },
  {
   "cell_type": "markdown",
   "id": "3e28b551-3db6-416b-adf8-1f4502822912",
   "metadata": {},
   "source": [
    "We start of with our data in $\\text"
   ]
  },
  {
   "cell_type": "markdown",
   "id": "3274464a",
   "metadata": {},
   "source": [
    "### The idea"
   ]
  },
  {
   "cell_type": "markdown",
   "id": "64115662",
   "metadata": {},
   "source": [
    "### Principal Components Analysis (PCA): a simple and popular method"
   ]
  },
  {
   "cell_type": "code",
   "execution_count": 21,
   "id": "c6ca5688-de0c-47cd-a13f-4fcf6e40b612",
   "metadata": {},
   "outputs": [],
   "source": [
    "pca_reducer = PCA()"
   ]
  },
  {
   "cell_type": "code",
   "execution_count": null,
   "id": "53c3a4b7-4eb0-46df-a0d6-c28ff9b0ec6b",
   "metadata": {},
   "outputs": [],
   "source": [
    "X_ = pca_reducer.fit_transform(X)"
   ]
  },
  {
   "cell_type": "code",
   "execution_count": null,
   "id": "bd5dfe32-957a-4f0f-b03f-54ab52e39813",
   "metadata": {},
   "outputs": [],
   "source": [
    "plt.scatter(X_[:,0], X_[:,1], alpha=.75, zorder=3, c=c)\n",
    "plt.axhline(0, lw=.5, c=\"k\")\n",
    "plt.axvline(0, lw=.5, c=\"k\")\n",
    "plt.show()"
   ]
  },
  {
   "cell_type": "markdown",
   "id": "721b0188",
   "metadata": {},
   "source": [
    "### Uniform Manifold Approximation & Projection (UMAP): a complex and popular method"
   ]
  },
  {
   "cell_type": "code",
   "execution_count": 17,
   "id": "6a830ece-d01d-4075-aabd-e5853c9a1bf3",
   "metadata": {},
   "outputs": [],
   "source": [
    "reducer = UMAP()"
   ]
  },
  {
   "cell_type": "markdown",
   "id": "6010a27c",
   "metadata": {},
   "source": [
    "## On style"
   ]
  },
  {
   "cell_type": "markdown",
   "id": "a2fbb44c",
   "metadata": {},
   "source": [
    "Meyer quote"
   ]
  },
  {
   "cell_type": "code",
   "execution_count": null,
   "id": "cc07ea2e",
   "metadata": {},
   "outputs": [],
   "source": []
  }
 ],
 "metadata": {
  "kernelspec": {
   "display_name": "Python 3 (ipykernel)",
   "language": "python",
   "name": "python3"
  },
  "language_info": {
   "codemirror_mode": {
    "name": "ipython",
    "version": 3
   },
   "file_extension": ".py",
   "mimetype": "text/x-python",
   "name": "python",
   "nbconvert_exporter": "python",
   "pygments_lexer": "ipython3",
   "version": "3.9.13"
  },
  "vscode": {
   "interpreter": {
    "hash": "0959e50e071deeafc5c01a8be4f9501c51325c41ddbb3c97d48d41d7ccdfbb0b"
   }
  }
 },
 "nbformat": 4,
 "nbformat_minor": 5
}
